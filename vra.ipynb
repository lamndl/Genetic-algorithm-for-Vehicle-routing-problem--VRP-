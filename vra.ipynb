{
  "cells": [
    {
      "attachments": {},
      "cell_type": "markdown",
      "metadata": {},
      "source": [
        "Colab notebook for finding solution by brute-force for small VEHICLE_NUM and VERTICES_NUM"
      ]
    },
    {
      "cell_type": "code",
      "execution_count": null,
      "metadata": {
        "id": "NRY2xquTlQz3"
      },
      "outputs": [],
      "source": [
        "import random\n",
        "import time\n",
        "import math\n",
        "import pickle\n",
        "import itertools\n",
        "import threading\n",
        "from typing import List\n",
        "\n",
        "from numpy import Infinity\n",
        "\n",
        "from settings import VEHICLE_NUM,VERTICES_NUM\n",
        "\n",
        "Point = tuple[int, int]\n",
        "\n",
        "vertices: List[Point] = [(0, 0)]\n",
        "distance_matrix: List[List[float]] = []"
      ]
    },
    {
      "cell_type": "code",
      "execution_count": null,
      "metadata": {
        "id": "AIjJxdhfmNfP"
      },
      "outputs": [],
      "source": [
        "with open('vertices', 'rb') as vt:\n",
        "    vertices = pickle.load(vt)\n",
        "with open('distance', 'rb') as dt:\n",
        "    distance_matrix = pickle.load(dt)"
      ]
    },
    {
      "cell_type": "code",
      "execution_count": null,
      "metadata": {
        "id": "uky1GwxuwEP3"
      },
      "outputs": [],
      "source": [
        "def split(a, n):\n",
        "    k, m = divmod(len(a), n)\n",
        "    return (a[i*k+min(i, m):(i+1)*k+min(i+1, m)] for i in range(n))"
      ]
    },
    {
      "cell_type": "code",
      "execution_count": null,
      "metadata": {
        "id": "GlphiHgCmShd"
      },
      "outputs": [],
      "source": [
        "pool = [i+1 for i in range(VERTICES_NUM)]\n",
        "for i in range(VEHICLE_NUM-1):\n",
        "    pool.append(-1)\n",
        "permutations = set(itertools.permutations(pool))\n",
        "permutations = list(permutations)\n",
        "p_list = split(permutations,10)"
      ]
    },
    {
      "cell_type": "code",
      "execution_count": null,
      "metadata": {
        "id": "B5qG9y0lmXne"
      },
      "outputs": [],
      "source": [
        "result =[]\n",
        "def find_min(permutations):\n",
        "  min_s = Infinity\n",
        "  s = ()\n",
        "  for i,p in enumerate(permutations):\n",
        "      # print('\\r',f'{i} - {len(permutations)}',end='')\n",
        "      max: float = 0\n",
        "      prev = 0\n",
        "      sum = 0\n",
        "      for current in p:\n",
        "          if current == -1:\n",
        "              if sum > max:\n",
        "                  max = sum\n",
        "              sum = 0\n",
        "              prev = 0\n",
        "              continue\n",
        "          sum += distance_matrix[current][prev]\n",
        "          prev = current\n",
        "      if sum > max:\n",
        "          max = sum\n",
        "      if min_s > max:\n",
        "        min_s = max\n",
        "        s = p\n",
        "  result.append((s,min_s))"
      ]
    },
    {
      "cell_type": "code",
      "execution_count": null,
      "metadata": {
        "colab": {
          "base_uri": "https://localhost:8080/"
        },
        "id": "2zNvDnZhrjEV",
        "outputId": "7a89ba88-aafc-43f3-b0f0-53310f97d44a"
      },
      "outputs": [],
      "source": [
        "threadlist = []\n",
        "for p in p_list:\n",
        "  t = threading.Thread(target=find_min, args=(p,))\n",
        "  t.start()\n",
        "  threadlist.append(t)\n",
        "for i,t in enumerate(threadlist):\n",
        "  t.join()\n",
        "  print(f'thread {i} finished')"
      ]
    },
    {
      "cell_type": "code",
      "execution_count": null,
      "metadata": {
        "id": "tro6NIFAzP8k"
      },
      "outputs": [],
      "source": [
        "final = min(r[1] for r in result)"
      ]
    },
    {
      "cell_type": "code",
      "execution_count": null,
      "metadata": {
        "id": "_-ckjrhQrJNs"
      },
      "outputs": [],
      "source": [
        "with open('output', 'w') as o:\n",
        "    for r in result:\n",
        "      if r[1] == final:\n",
        "        o.write(str(r)+'\\n')\n",
        "        break\n",
        "        "
      ]
    }
  ],
  "metadata": {
    "colab": {
      "provenance": []
    },
    "kernelspec": {
      "display_name": "Python 3",
      "name": "python3"
    },
    "language_info": {
      "codemirror_mode": {
        "name": "ipython",
        "version": 3
      },
      "file_extension": ".py",
      "mimetype": "text/x-python",
      "name": "python",
      "nbconvert_exporter": "python",
      "pygments_lexer": "ipython3",
      "version": "3.11.2"
    }
  },
  "nbformat": 4,
  "nbformat_minor": 0
}
